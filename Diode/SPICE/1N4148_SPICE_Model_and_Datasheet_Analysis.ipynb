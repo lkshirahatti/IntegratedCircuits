{
 "cells": [
  {
   "cell_type": "markdown",
   "id": "43f5d9d4",
   "metadata": {},
   "source": [
    "# 1N4148 Diode SPICE Model and Datasheet"
   ]
  },
  {
   "cell_type": "markdown",
   "id": "099940fe",
   "metadata": {},
   "source": [
    "\n",
    "# SPICE Model Explanation\n",
    "\n",
    "\n",
    ".model D1N4148  D(Is=5.84n N=1.94 Rs=.7017 Ikf=44.17m Xti=3 Eg=1.11 Cjo=.95p M=.55 Vj=.75 Fc=.5 Isr=11.07n Nr=2.088 Bv=100 Ibv=100u Tt=11.07n) \n",
    "\n",
    "\n",
    "## SPICE Model Parameters\n",
    "\n",
    "| Parameter | Value | Description |\n",
    "|----------:|:------:|-------------|\n",
    "| $I_S$ | $5.84 \\times 10^{-9} \\ \\text{A}$ | Saturation current (reverse leakage, sets exponential forward I–V) |\n",
    "| $N$ | $1.94$ | Emission coefficient (ideality factor) |\n",
    "| $R_S$ | $0.7017 \\ \\Omega$ | Series resistance |\n",
    "| $I_{KF}$ | $44.17 \\times 10^{-3} \\ \\text{A}$ | High-level injection threshold |\n",
    "| $X_{TI}$ | $3$ | Temperature exponent for $I_S$ |\n",
    "| $E_g$ | $1.11 \\ \\text{eV}$ | Bandgap energy for silicon |\n",
    "| $C_{j0}$ | $0.95 \\ \\text{pF}$ | Zero-bias junction capacitance |\n",
    "| $M$ | $0.55$ | Grading coefficient (capacitance-voltage nonlinearity) |\n",
    "| $V_j$ | $0.75 \\ \\text{V}$ | Built-in potential |\n",
    "| $F_C$ | $0.5$ | Coefficient for forward-bias capacitance |\n",
    "| $I_{SR}$ | $11.07 \\times 10^{-9} \\ \\text{A}$ | Recombination saturation current |\n",
    "| $N_r$ | $2.088$ | Emission coefficient for recombination |\n",
    "| $B_V$ | $100 \\ \\text{V}$ | Reverse breakdown voltage |\n",
    "| $I_{BV}$ | $100 \\ \\mu\\text{A}$ | Breakdown current at $B_V$ |\n",
    "| $T_t$ | $11.07 \\ \\text{ns}$ | Transit time (reverse recovery) |\n"
   ]
  },
  {
   "cell_type": "markdown",
   "id": "3d198d8f",
   "metadata": {},
   "source": [
    "\n",
    "## Datasheet Comparison (Multiple Manufacturers)\n",
    "\n",
    "| **Parameter**                           | **Vishay**       | **SMC Diode Solutions** | **ON Semiconductor**       | **NXP Semiconductors**   | **Diotec**                   |\n",
    "| --------------------------------------- | ---------------- | ----------------------- | -------------------------- | ------------------------ | ---------------------------- |\n",
    "| **Peak Reverse Voltage ($V_{RRM}$)**         | 100 V            | 100 V                   | 100 V                      | 100 V                    | 100 V                        |\n",
    "| **Working Reverse Voltage ($V_{R}$)**        | 75 V             | 75 V                    | 75 V                       | 100 V                    | 75 V                         |\n",
    "| **Forward Voltage ($V_F$ @ 10 mA)**          | ≤ 1.0 V          | ≤ 1.0 V                 | ≤ 1.0 V                    | ≤ 1.0 V                  | ≤ 1.0 V                      |\n",
    "| **Reverse Leakage ($I_R$ @ 20 V)**           | ≤ 25 nA          | ≤ 25 nA                 | ≤ 25 nA                    | ≤ 25 nA                  | ≤ 25 nA                      |\n",
    "| **Reverse Leakage ($I_R$ @ 20 V, 150 °C)**   | ≤ 50 µA          | ≤ 50 µA                 | ≤ 50 µA                    | ≤ 50 µA                  | ≤ 50 µA                      |\n",
    "| **Reverse Recovery Time ($t_{rr}$)**         | 4–8 ns           | ≤ 4 ns                  | ≤ 4 ns                     | ≤ 4 ns                   | < 4 ns                       |\n",
    "| **Capacitance ($C_j$ @ 1 MHz)**              | 4 pF             | ≤ 4 pF                  | 4 pF                       | ≤ 4 pF                   | typ. 4 pF                    |\n",
    "| **Max Forward Current ($I_F$)**              | 300 mA           | 300 mA                  | 300 mA                     | 200 mA                   | 200 mA                       |\n",
    "| **Average Forward Current ($I_{F(AV)}$)**    | 150 mA           | 150 mA                  | 200 mA                     | 200 mA                   | 200 mA                       |\n",
    "| **Peak Surge Forward Current ($I_{FSM}$)**   | 2 A (1 µs pulse) | 2 A (1 µs)              | 4 A (1 µs)                 | 4 A (1 µs)               | 4 A (1 µs)                   |\n",
    "| **Power Dissipation ($P_{tot}$)**            | 500 mW           | 500 mW                  | 500 mW                     | 500 mW                   | 500 mW                       |\n",
    "| **Thermal Resistance ($R_{\\theta JA}$)**     | 350 K/W          | 300 °C/W                | 300 °C/W                   | 350 K/W                  | < 300 K/W                    |\n",
    "| **Junction Temperature ($T_j$ max)**         | 175 °C           | 175 °C                  | 175 °C                     | 200 °C                   | 175 °C                       |\n",
    "| **Package**                             | DO-35            | DO-35                   | DO-204AH (DO-35)           | DO-35 (SOD27)            | DO-35 / SOD-27               |\n",
    "| **Weight (typical)**                    | ~105 mg          | ~130 mg                | ~137 mg                   | Not specified            | ~100 mg                     |\n",
    "| **Compliance / Notes**                  | RoHS, JEDEC      | Pb-Free, Traceable lots | JEDEC, Hermetically sealed | Hermetically sealed, IEC | AEC-Q101 optional (suffixes) |\n"
   ]
  },
  {
   "cell_type": "markdown",
   "id": "2d22ae57",
   "metadata": {},
   "source": [
    "\n",
    "## Use Case vs Key Parameters\n",
    "\n",
    "| **Use Case**             | **Important Params**               |\n",
    "|--------------------------|------------------------------------|\n",
    "| **DC I–V curve**         | `Is`, `N`, `Rs`, `Ikf`             |\n",
    "| **Switching speed**      | `Tt`, `Isr`, `Nr`                  |\n",
    "| **Reverse leakage**      | `Is`, `Isr`, `Nr`, `Bv`, `Ibv`     |\n",
    "| **High-frequency use**   | `Cjo`, `M`, `Vj`, `Fc`, `Tt`       |\n",
    "| **Temperature effects**  | `Xti`, `Eg`, `Is`                  |\n",
    "\n",
    "---\n",
    "\n",
    "## Understanding Their Importance by Behavior\n",
    "\n",
    "### 🔹 Forward Bias (Conduction Region)\n",
    "- $I_S$ and $N$: Set the exponential turn-on curve.\n",
    "- $R_S$: Limits current rise and causes voltage drop at high current.\n",
    "- $I_{KF}$: When $I > I_{KF}$, injection efficiency drops.\n",
    "- $T_t$: Affects how fast the diode turns off → critical in switching circuits.\n",
    "\n",
    "### 🔹 Reverse Bias (Blocking Region)\n",
    "- $I_S$, $N$: Control small leakage current.\n",
    "- $C_{j0}$, $M$, $V_j$, $F_C$: Define voltage-dependent capacitance → important in RF circuits and switching.\n",
    "- $B_V$, $I_{BV}$: Protect against overvoltage damage.\n",
    "- $I_{SR}$, $N_r$: Control recombination current near 0 V and contribute to soft reverse behavior.\n",
    "\n",
    "### 🔹 Temperature Behavior\n",
    "- $E_g$, $X_{TI}$: Define how $I_S$ grows with temperature → affects turn-on voltage and leakage current rise at high $T$.\n"
   ]
  }
 ],
 "metadata": {
  "kernelspec": {
   "display_name": "Python 3 (ipykernel)",
   "language": "python",
   "name": "python3"
  },
  "language_info": {
   "codemirror_mode": {
    "name": "ipython",
    "version": 3
   },
   "file_extension": ".py",
   "mimetype": "text/x-python",
   "name": "python",
   "nbconvert_exporter": "python",
   "pygments_lexer": "ipython3",
   "version": "3.10.12"
  }
 },
 "nbformat": 4,
 "nbformat_minor": 5
}
